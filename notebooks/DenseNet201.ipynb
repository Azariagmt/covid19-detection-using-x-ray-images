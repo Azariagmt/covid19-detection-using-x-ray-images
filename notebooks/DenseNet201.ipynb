{
  "cells": [
    {
      "cell_type": "markdown",
      "source": [
        "## Imports\n"
      ],
      "metadata": {
        "nteract": {
          "transient": {
            "deleting": false
          }
        }
      }
    },
    {
      "cell_type": "code",
      "source": [
        "%%capture\n",
        "import numpy as np\n",
        "import tensorflow as tf\n",
        "from matplotlib import pyplot as plt\n",
        "import itertools\n",
        "from sklearn.utils import shuffle\n",
        "%run \"./utils.ipynb\"\n",
        "%run \"./Data preprocessing.ipynb\""
      ],
      "outputs": [],
      "execution_count": 1,
      "metadata": {
        "gather": {
          "logged": 1618946409489
        }
      }
    },
    {
      "cell_type": "markdown",
      "source": [
        "## Load Numpy Array"
      ],
      "metadata": {
        "nteract": {
          "transient": {
            "deleting": false
          }
        }
      }
    },
    {
      "cell_type": "code",
      "source": [
        "X.shape"
      ],
      "outputs": [
        {
          "output_type": "execute_result",
          "execution_count": 2,
          "data": {
            "text/plain": "(17615, 100, 100)"
          },
          "metadata": {}
        }
      ],
      "execution_count": 2,
      "metadata": {
        "collapsed": true,
        "jupyter": {
          "source_hidden": false,
          "outputs_hidden": false
        },
        "nteract": {
          "transient": {
            "deleting": false
          }
        },
        "gather": {
          "logged": 1619010977674
        }
      }
    },
    {
      "cell_type": "code",
      "source": [
        "np.unique(y)"
      ],
      "outputs": [
        {
          "output_type": "execute_result",
          "execution_count": 7,
          "data": {
            "text/plain": "array([0, 1, 2, 3, 4])"
          },
          "metadata": {}
        }
      ],
      "execution_count": 7,
      "metadata": {
        "collapsed": true,
        "jupyter": {
          "source_hidden": false,
          "outputs_hidden": false
        },
        "nteract": {
          "transient": {
            "deleting": false
          }
        },
        "gather": {
          "logged": 1619011035918
        }
      }
    },
    {
      "cell_type": "markdown",
      "source": [
        "### Resize array"
      ],
      "metadata": {
        "nteract": {
          "transient": {
            "deleting": false
          }
        }
      }
    },
    {
      "cell_type": "code",
      "source": [
        "X, y = shuffle(X, y, random_state=0)  "
      ],
      "outputs": [],
      "execution_count": 8,
      "metadata": {
        "collapsed": true,
        "jupyter": {
          "source_hidden": false,
          "outputs_hidden": false
        },
        "nteract": {
          "transient": {
            "deleting": false
          }
        },
        "gather": {
          "logged": 1619011041420
        }
      }
    },
    {
      "cell_type": "code",
      "source": [
        "X = np.stack((X,)*3, axis=-1)\n",
        "print(X.shape)"
      ],
      "outputs": [
        {
          "output_type": "stream",
          "name": "stdout",
          "text": [
            "(17615, 100, 100, 3)\n"
          ]
        }
      ],
      "execution_count": 9,
      "metadata": {
        "collapsed": true,
        "jupyter": {
          "source_hidden": false,
          "outputs_hidden": false
        },
        "nteract": {
          "transient": {
            "deleting": false
          }
        },
        "gather": {
          "logged": 1619011042928
        }
      }
    },
    {
      "cell_type": "markdown",
      "source": [
        "### Train"
      ],
      "metadata": {
        "nteract": {
          "transient": {
            "deleting": false
          }
        }
      }
    },
    {
      "cell_type": "code",
      "source": [
        "from tensorflow.keras.applications import VGG16,VGG19,NASNetMobile,DenseNet201\n",
        "from tensorflow.keras.layers import *\n",
        "from tensorflow.keras.models import Sequential\n",
        "from tensorflow.keras.regularizers import *\n",
        "from tensorflow.keras.optimizers import Adam"
      ],
      "outputs": [],
      "execution_count": 10,
      "metadata": {
        "collapsed": true,
        "jupyter": {
          "source_hidden": false,
          "outputs_hidden": false
        },
        "nteract": {
          "transient": {
            "deleting": false
          }
        },
        "gather": {
          "logged": 1619011047085
        }
      }
    },
    {
      "cell_type": "code",
      "source": [
        "# Using early stopping and reduce lr on plateau to control the performance\n",
        "cb_1 = tf.keras.callbacks.ReduceLROnPlateau(monitor='val_loss', factor=0.5, patience=1, min_lr=1e-5, verbose=0) \n",
        "cb_2 = tf.keras.callbacks.EarlyStopping(monitor='val_loss', min_delta=1e-6, patience=3, verbose=1, mode='auto', restore_best_weights=True)\n",
        "\n",
        "cbs = [cb_1 , cb_2 ]"
      ],
      "outputs": [],
      "execution_count": 11,
      "metadata": {
        "collapsed": true,
        "jupyter": {
          "source_hidden": false,
          "outputs_hidden": false
        },
        "nteract": {
          "transient": {
            "deleting": false
          }
        },
        "gather": {
          "logged": 1619011117148
        }
      }
    },
    {
      "cell_type": "code",
      "source": [
        "from sklearn.model_selection import train_test_split\n",
        "# split the data\n",
        "X_train, X_test, y_train, y_test = train_test_split(X,y,test_size=0.25, random_state = 101, stratify=y)"
      ],
      "outputs": [],
      "execution_count": 12,
      "metadata": {
        "collapsed": true,
        "jupyter": {
          "source_hidden": false,
          "outputs_hidden": false
        },
        "nteract": {
          "transient": {
            "deleting": false
          }
        },
        "gather": {
          "logged": 1619011129383
        }
      }
    },
    {
      "cell_type": "code",
      "source": [
        "model = Sequential()\n",
        "\n",
        "conv_base = DenseNet201(input_shape=(100,100,3), include_top=False, pooling='max',weights='imagenet')\n",
        "# conv_base.trainable = False\n",
        "model.add(conv_base)\n",
        "model.add(BatchNormalization())\n",
        "model.add(Dense(2048, activation='relu', kernel_regularizer=l1_l2(0.01)))\n",
        "model.add(BatchNormalization())\n",
        "model.add(Dense(5, activation='softmax'))\n",
        "\n",
        "train_layers = [layer for layer in conv_base.layers[::-1][:2]]\n",
        "# print(train_layers)\n",
        "# print(len(train_layers), \"train len\")\n",
        "\n",
        "for layer in conv_base.layers:\n",
        "  if layer in train_layers:\n",
        "    layer.trainable = True\n",
        "\n",
        "model.compile(loss='sparse_categorical_crossentropy', optimizer=Adam(lr=1e-4), metrics=['accuracy'])"
      ],
      "outputs": [],
      "execution_count": 13,
      "metadata": {
        "collapsed": true,
        "jupyter": {
          "source_hidden": false,
          "outputs_hidden": false
        },
        "nteract": {
          "transient": {
            "deleting": false
          }
        },
        "gather": {
          "logged": 1619011189174
        }
      }
    },
    {
      "cell_type": "code",
      "source": [
        "model.summary()"
      ],
      "outputs": [
        {
          "output_type": "stream",
          "name": "stdout",
          "text": [
            "Model: \"sequential\"\n",
            "_________________________________________________________________\n",
            "Layer (type)                 Output Shape              Param #   \n",
            "=================================================================\n",
            "densenet201 (Model)          (None, 1920)              18321984  \n",
            "_________________________________________________________________\n",
            "batch_normalization (BatchNo (None, 1920)              7680      \n",
            "_________________________________________________________________\n",
            "dense (Dense)                (None, 2048)              3934208   \n",
            "_________________________________________________________________\n",
            "batch_normalization_1 (Batch (None, 2048)              8192      \n",
            "_________________________________________________________________\n",
            "dense_1 (Dense)              (None, 5)                 10245     \n",
            "=================================================================\n",
            "Total params: 22,282,309\n",
            "Trainable params: 22,045,317\n",
            "Non-trainable params: 236,992\n",
            "_________________________________________________________________\n"
          ]
        }
      ],
      "execution_count": 14,
      "metadata": {
        "collapsed": true,
        "jupyter": {
          "source_hidden": false,
          "outputs_hidden": false
        },
        "nteract": {
          "transient": {
            "deleting": false
          }
        },
        "gather": {
          "logged": 1619011198738
        }
      }
    },
    {
      "cell_type": "code",
      "source": [
        "history = model.fit(X_train, y_train,validation_data=(X_test, y_test), epochs=8, callbacks=cbs,verbose=1)"
      ],
      "outputs": [
        {
          "output_type": "stream",
          "name": "stdout",
          "text": [
            "Train on 13211 samples, validate on 4404 samples\n",
            "Epoch 1/8\n",
            "13211/13211 [==============================] - 209s 16ms/sample - loss: 276.2558 - accuracy: 0.8080 - val_loss: 18.6209 - val_accuracy: 0.7636\b\b\b\b\b\b\b\b\b\b\b\b\b\b\b\b\b\b\b\b\b\b\b\b\b\b\b\b\b\b\b\b\b\b\b\b\b\b\b\b\b\b\b\b\b\b\b\b\n",
            "Epoch 2/8\n",
            "13211/13211 [==============================] - 149s 11ms/sample - loss: 5.2688 - accuracy: 0.8775 - val_loss: 2.2138 - val_accuracy: 0.8860\b\b\b\b\b\b\b\b\b\b\b\b\b\b\b\b\b\b\b\b\b\b\b\b\b\b\b\b\b\b\b\b\b\b\b\b\b\b\b\b\b\b\b\n",
            "Epoch 3/8\n",
            "13211/13211 [==============================] - 150s 11ms/sample - loss: 1.2208 - accuracy: 0.9478 - val_loss: 0.9933 - val_accuracy: 0.9457\b\b\b\b\b\b\b\b\b\b\b\b\b\b\b\b\b\b\b\b\b\b\b\b\b\b\b\b\b\b\b\b\b\b\b\b\b\b\b\b\b\n",
            "Epoch 4/8\n",
            "13211/13211 [==============================] - 151s 11ms/sample - loss: 0.9372 - accuracy: 0.9690 - val_loss: 0.9633 - val_accuracy: 0.9473\b\b\b\b\b\b\b\b\b\b\b\b\b\b\b\b\b\b\b\b\b\b\b\b\b\b\b\b\b\b\b\b\b\b\b\b\b\b\b\b\b\n",
            "Epoch 5/8\n",
            "13211/13211 [==============================] - 150s 11ms/sample - loss: 0.9004 - accuracy: 0.9746 - val_loss: 0.9751 - val_accuracy: 0.9607\b\b\b\b\b\b\b\b\b\b\b\b\b\b\b\b\b\b\b\b\b\b\b\b\b\b\b\b\b\b\b\b\b\b\b\b\b\b\b\b\b\n",
            "Epoch 6/8\n",
            "13211/13211 [==============================] - 150s 11ms/sample - loss: 0.3984 - accuracy: 0.9936 - val_loss: 0.3886 - val_accuracy: 0.9802\b\b\b\b\b\b\b\b\b\b\b\b\b\b\b\b\b\b\b\b\b\b\b\b\b\b\b\b\b\b\b\b\b\b\b\b\b\b\b\b\b\n",
            "Epoch 7/8\n",
            "13211/13211 [==============================] - 150s 11ms/sample - loss: 0.3718 - accuracy: 0.9970 - val_loss: 0.5823 - val_accuracy: 0.9818\b\b\b\b\b\b\b\b\b\b\b\b\b\b\b\b\b\b\b\b\b\b\b\b\b\b\b\b\b\b\b\b\b\b\b\b\b\b\b\b\b\n",
            "Epoch 8/8\n",
            "13211/13211 [==============================] - 150s 11ms/sample - loss: 0.2111 - accuracy: 0.9987 - val_loss: 0.2392 - val_accuracy: 0.9827\b\b\b\b\b\b\b\b\b\b\b\b\b\b\b\b\b\b\b\b\b\b\b\b\b\b\b\b\b\b\b\b\b\b\b\b\b\b\b\b\b\n"
          ]
        }
      ],
      "execution_count": 15,
      "metadata": {
        "collapsed": true,
        "jupyter": {
          "source_hidden": false,
          "outputs_hidden": false
        },
        "nteract": {
          "transient": {
            "deleting": false
          }
        },
        "gather": {
          "logged": 1619012465790
        }
      }
    },
    {
      "cell_type": "code",
      "source": [
        "accuracy_graph(history)"
      ],
      "outputs": [
        {
          "output_type": "display_data",
          "data": {
            "text/plain": "<Figure size 432x288 with 1 Axes>",
            "image/png": "[encoded data removed]"
          },
          "metadata": {
            "needs_background": "light"
          }
        }
      ],
      "execution_count": 16,
      "metadata": {
        "collapsed": true,
        "jupyter": {
          "source_hidden": false,
          "outputs_hidden": false
        },
        "nteract": {
          "transient": {
            "deleting": false
          }
        },
        "gather": {
          "logged": 1619012519896
        }
      }
    },
    {
      "cell_type": "code",
      "source": [
        "loss_graph(history)"
      ],
      "outputs": [
        {
          "output_type": "display_data",
          "data": {
            "text/plain": "<Figure size 432x288 with 1 Axes>",
            "image/png": "[encoded data removed]"
          },
          "metadata": {
            "needs_background": "light"
          }
        }
      ],
      "execution_count": 17,
      "metadata": {
        "collapsed": true,
        "jupyter": {
          "source_hidden": false,
          "outputs_hidden": false
        },
        "nteract": {
          "transient": {
            "deleting": false
          }
        },
        "gather": {
          "logged": 1619012526391
        }
      }
    },
    {
      "cell_type": "code",
      "source": [
        "predictions = model.predict(X_test).argmax(axis=1)\n",
        "cm = confusion_matrix(y_test, predictions)"
      ],
      "outputs": [],
      "execution_count": 18,
      "metadata": {
        "collapsed": true,
        "jupyter": {
          "source_hidden": false,
          "outputs_hidden": false
        },
        "nteract": {
          "transient": {
            "deleting": false
          }
        },
        "gather": {
          "logged": 1619012547454
        }
      }
    },
    {
      "cell_type": "code",
      "source": [
        "plot_confusion_matrix(cm, [\"COVID\" ,\"BACT\", \"VIRAL\", \"TB\", \"NORMAL\"])"
      ],
      "outputs": [
        {
          "output_type": "stream",
          "name": "stdout",
          "text": [
            "Confusion matrix, without normalization\n",
            "[[897   1   1   2   3]\n",
            " [  0 825  50   0   0]\n",
            " [  0   9 866   0   0]\n",
            " [  6   0   0 868   1]\n",
            " [  3   0   0   0 872]]\n"
          ]
        },
        {
          "output_type": "display_data",
          "data": {
            "text/plain": "<Figure size 432x288 with 2 Axes>",
            "image/png": "[encoded data removed]"
          },
          "metadata": {
            "needs_background": "light"
          }
        }
      ],
      "execution_count": 19,
      "metadata": {
        "collapsed": true,
        "jupyter": {
          "source_hidden": false,
          "outputs_hidden": false
        },
        "nteract": {
          "transient": {
            "deleting": false
          }
        },
        "gather": {
          "logged": 1619012547919
        }
      }
    },
    {
      "cell_type": "code",
      "source": [
        "print(classification_report(y_test, predictions));"
      ],
      "outputs": [
        {
          "output_type": "stream",
          "name": "stdout",
          "text": [
            "              precision    recall  f1-score   support\n",
            "\n",
            "           0       0.99      0.99      0.99       904\n",
            "           1       0.99      0.94      0.96       875\n",
            "           2       0.94      0.99      0.97       875\n",
            "           3       1.00      0.99      0.99       875\n",
            "           4       1.00      1.00      1.00       875\n",
            "\n",
            "    accuracy                           0.98      4404\n",
            "   macro avg       0.98      0.98      0.98      4404\n",
            "weighted avg       0.98      0.98      0.98      4404\n",
            "\n"
          ]
        }
      ],
      "execution_count": 20,
      "metadata": {
        "collapsed": true,
        "jupyter": {
          "source_hidden": false,
          "outputs_hidden": false
        },
        "nteract": {
          "transient": {
            "deleting": false
          }
        },
        "gather": {
          "logged": 1619012617191
        }
      }
    }
  ],
  "metadata": {
    "kernelspec": {
      "name": "python3-azureml",
      "language": "python",
      "display_name": "Python 3.6 - AzureML"
    },
    "language_info": {
      "name": "python",
      "version": "3.6.9",
      "mimetype": "text/x-python",
      "codemirror_mode": {
        "name": "ipython",
        "version": 3
      },
      "pygments_lexer": "ipython3",
      "nbconvert_exporter": "python",
      "file_extension": ".py"
    },
    "kernel_info": {
      "name": "python3-azureml"
    },
    "nteract": {
      "version": "nteract-front-end@1.0.0"
    },
    "microsoft": {
      "host": {
        "AzureML": {
          "notebookHasBeenCompleted": true
        }
      }
    }
  },
  "nbformat": 4,
  "nbformat_minor": 2
}