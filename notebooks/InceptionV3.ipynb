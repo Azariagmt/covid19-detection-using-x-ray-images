{
  "cells": [
    {
      "cell_type": "code",
      "source": [
        "%%capture\n",
        "import numpy as np\n",
        "import tensorflow as tf\n",
        "from matplotlib import pyplot as plt\n",
        "import itertools\n",
        "from sklearn.utils import shuffle\n",
        "%run \"./utils.ipynb\"\n",
        "%run \"./Data preprocessing.ipynb\""
      ],
      "outputs": [],
      "execution_count": 1,
      "metadata": {
        "gather": {
          "logged": 1618352995035
        }
      }
    },
    {
      "cell_type": "code",
      "source": [
        "X.shape"
      ],
      "outputs": [
        {
          "output_type": "execute_result",
          "execution_count": 2,
          "data": {
            "text/plain": "(17615, 100, 100)"
          },
          "metadata": {}
        }
      ],
      "execution_count": 2,
      "metadata": {
        "collapsed": true,
        "jupyter": {
          "source_hidden": false,
          "outputs_hidden": false
        },
        "nteract": {
          "transient": {
            "deleting": false
          }
        },
        "gather": {
          "logged": 1620102480674
        }
      }
    },
    {
      "cell_type": "code",
      "source": [
        "X, y = shuffle(X, y, random_state=0)"
      ],
      "outputs": [],
      "execution_count": 3,
      "metadata": {
        "collapsed": true,
        "jupyter": {
          "source_hidden": false,
          "outputs_hidden": false
        },
        "nteract": {
          "transient": {
            "deleting": false
          }
        },
        "gather": {
          "logged": 1620102481031
        }
      }
    },
    {
      "cell_type": "code",
      "source": [
        "X = np.stack((X,)*3, axis=-1)\n",
        "print(X.shape)"
      ],
      "outputs": [
        {
          "output_type": "stream",
          "name": "stdout",
          "text": [
            "(17615, 100, 100, 3)\n"
          ]
        }
      ],
      "execution_count": 4,
      "metadata": {
        "collapsed": true,
        "jupyter": {
          "source_hidden": false,
          "outputs_hidden": false
        },
        "nteract": {
          "transient": {
            "deleting": false
          }
        },
        "gather": {
          "logged": 1620102481283
        }
      }
    },
    {
      "cell_type": "code",
      "source": [
        "X = tf.keras.applications.inception_v3.preprocess_input(\n",
        "    X, data_format=None\n",
        ")"
      ],
      "outputs": [],
      "execution_count": 5,
      "metadata": {
        "collapsed": true,
        "jupyter": {
          "source_hidden": false,
          "outputs_hidden": false
        },
        "nteract": {
          "transient": {
            "deleting": false
          }
        },
        "gather": {
          "logged": 1620102482258
        }
      }
    },
    {
      "cell_type": "code",
      "source": [
        "from tensorflow.keras.layers import *\n",
        "from tensorflow.keras.models import Sequential\n",
        "from tensorflow.keras.regularizers import *\n",
        "from tensorflow.keras.optimizers import Adam "
      ],
      "outputs": [],
      "execution_count": 6,
      "metadata": {
        "collapsed": true,
        "jupyter": {
          "source_hidden": false,
          "outputs_hidden": false
        },
        "nteract": {
          "transient": {
            "deleting": false
          }
        },
        "gather": {
          "logged": 1620102482473
        }
      }
    },
    {
      "cell_type": "code",
      "source": [
        "from sklearn.model_selection import train_test_split\n",
        "# split the data\n",
        "X_train, X_test, y_train, y_test = train_test_split(X,y,test_size=0.25, random_state = 42, stratify=y) "
      ],
      "outputs": [],
      "execution_count": 7,
      "metadata": {
        "collapsed": true,
        "jupyter": {
          "source_hidden": false,
          "outputs_hidden": false
        },
        "nteract": {
          "transient": {
            "deleting": false
          }
        },
        "gather": {
          "logged": 1620102483139
        }
      }
    },
    {
      "cell_type": "code",
      "source": [
        "model = Sequential()\n",
        "\n",
        "conv_base = tf.keras.applications.InceptionV3(input_shape=(100,100,3), include_top=False, pooling='max',weights='imagenet')\n",
        "# conv_base.trainable = False\n",
        "model.add(conv_base)\n",
        "model.add(Dense(5, activation='softmax')) \n",
        "\n",
        "train_layers = [layer for layer in conv_base.layers[::-1][:5]]\n",
        "\n",
        "for layer in conv_base.layers:\n",
        "  if layer in train_layers:\n",
        "    layer.trainable = True\n",
        "\n",
        "model.compile(loss='sparse_categorical_crossentropy', optimizer=Adam(lr=1e-4), metrics=['accuracy'])"
      ],
      "outputs": [],
      "execution_count": 8,
      "metadata": {
        "collapsed": true,
        "jupyter": {
          "source_hidden": false,
          "outputs_hidden": false
        },
        "nteract": {
          "transient": {
            "deleting": false
          }
        },
        "gather": {
          "logged": 1620102491620
        }
      }
    },
    {
      "cell_type": "code",
      "source": [
        "model.summary() "
      ],
      "outputs": [
        {
          "output_type": "stream",
          "name": "stdout",
          "text": [
            "Model: \"sequential\"\n",
            "_________________________________________________________________\n",
            "Layer (type)                 Output Shape              Param #   \n",
            "=================================================================\n",
            "inception_v3 (Model)         (None, 2048)              21802784  \n",
            "_________________________________________________________________\n",
            "dense (Dense)                (None, 5)                 10245     \n",
            "=================================================================\n",
            "Total params: 21,813,029\n",
            "Trainable params: 21,778,597\n",
            "Non-trainable params: 34,432\n",
            "_________________________________________________________________\n"
          ]
        }
      ],
      "execution_count": 9,
      "metadata": {
        "collapsed": true,
        "jupyter": {
          "source_hidden": false,
          "outputs_hidden": false
        },
        "nteract": {
          "transient": {
            "deleting": false
          }
        },
        "gather": {
          "logged": 1620102491870
        }
      }
    },
    {
      "cell_type": "code",
      "source": [
        "history = model.fit(X_train, y_train,validation_data=(X_test, y_test), epochs=20, callbacks=cbs,verbose=1) "
      ],
      "outputs": [
        {
          "output_type": "stream",
          "name": "stdout",
          "text": [
            "Train on 13211 samples, validate on 4404 samples\n",
            "Epoch 1/20\n",
            "13211/13211 [==============================] - 94s 7ms/sample - loss: 0.7185 - accuracy: 0.7101 - val_loss: 1.0114 - val_accuracy: 0.6188\b\b\b\b\b\b\b\b\b\b\b\b\b\b\b\b\b\b\b\b\b\b\b\b\b\b\b\b\b\b\b\b\b\b\b\b\b\b\b\b\b\b\b\b\b\b\b\b\b\n",
            "Epoch 2/20\n",
            "13211/13211 [==============================] - 77s 6ms/sample - loss: 0.3145 - accuracy: 0.8789 - val_loss: 0.2700 - val_accuracy: 0.8994\b\b\b\b\b\b\b\b\b\b\b\b\b\b\b\b\b\b\b\b\b\b\b\b\b\b\b\b\b\b\b\b\b\b\b\b\b\b\b\b\b\b\b\n",
            "Epoch 3/20\n",
            "13211/13211 [==============================] - 77s 6ms/sample - loss: 0.2004 - accuracy: 0.9246 - val_loss: 0.2114 - val_accuracy: 0.9185\b\b\b\b\b\b\b\b\b\b\b\b\b\b\b\b\b\b\b\b\b\b\b\b\b\b\b\b\b\b\b\b\b\b\b\b\b\b\b\b\b\b\b\n",
            "Epoch 4/20\n",
            "13211/13211 [==============================] - 77s 6ms/sample - loss: 0.1337 - accuracy: 0.9541 - val_loss: 0.1534 - val_accuracy: 0.9473\b\b\b\b\b\b\b\b\b\b\b\b\b\b\b\b\b\b\b\b\b\b\b\b\b\b\b\b\b\b\b\b\b\b\b\b\b\b\b\b\b\b\b\n",
            "Epoch 5/20\n",
            "13211/13211 [==============================] - 77s 6ms/sample - loss: 0.0983 - accuracy: 0.9673 - val_loss: 0.1565 - val_accuracy: 0.9528\b\b\b\b\b\b\b\b\b\b\b\b\b\b\b\b\b\b\b\b\b\b\b\b\b\b\b\b\b\b\b\b\b\b\b\b\b\b\b\b\b\b\b\n",
            "Epoch 6/20\n",
            "13211/13211 [==============================] - 77s 6ms/sample - loss: 0.0484 - accuracy: 0.9851 - val_loss: 0.0925 - val_accuracy: 0.9725\b\b\b\b\b\b\b\b\b\b\b\b\b\b\b\b\b\b\b\b\b\b\b\b\b\b\b\b\b\b\b\b\b\b\b\b\b\b\b\b\b\b\b\n",
            "Epoch 7/20\n",
            "13211/13211 [==============================] - 77s 6ms/sample - loss: 0.0297 - accuracy: 0.9914 - val_loss: 0.1037 - val_accuracy: 0.9712\b\b\b\b\b\b\b\b\b\b\b\b\b\b\b\b\b\b\b\b\b\b\b\b\b\b\b\b\b\b\b\b\b\b\b\b\b\b\b\b\b\b\b\n",
            "Epoch 8/20\n",
            "13211/13211 [==============================] - 77s 6ms/sample - loss: 0.0155 - accuracy: 0.9956 - val_loss: 0.1032 - val_accuracy: 0.9732\b\b\b\b\b\b\b\b\b\b\b\b\b\b\b\b\b\b\b\b\b\b\b\b\b\b\b\b\b\b\b\b\b\b\b\b\b\b\b\b\b\b\b\n",
            "Epoch 9/20\n",
            "13211/13211 [==============================] - 77s 6ms/sample - loss: 0.0112 - accuracy: 0.9977 - val_loss: 0.1017 - val_accuracy: 0.9748\b\b\b\b\b\b\b\b\b\b\b\b\b\b\b\b\b\b\b\b\b\b\b\b\b\b\b\b\b\b\b\b\b\b\b\b\b\b\b\b\b\b\b\n",
            "Epoch 10/20\n",
            "13184/13211 [============================>.] - ETA: 0s - loss: 0.0119 - accuracy: 0.9972Restoring model weights from the end of the best epoch.\b\b\b\b\b\b\b\b\b\b\b\b\b\b\b\b\b\b\b\b\b\b\b\b\b\b\b\b\b\b\b\b\b\b\b\b\b\n",
            "13211/13211 [==============================] - 77s 6ms/sample - loss: 0.0118 - accuracy: 0.9972 - val_loss: 0.1051 - val_accuracy: 0.9737\n",
            "Epoch 00010: early stopping\n"
          ]
        }
      ],
      "execution_count": 10,
      "metadata": {
        "collapsed": true,
        "jupyter": {
          "source_hidden": false,
          "outputs_hidden": false
        },
        "nteract": {
          "transient": {
            "deleting": false
          }
        },
        "gather": {
          "logged": 1620103282050
        }
      }
    },
    {
      "cell_type": "code",
      "source": [
        "accuracy_graph(history)"
      ],
      "outputs": [
        {
          "output_type": "display_data",
          "data": {
            "text/plain": "<Figure size 432x288 with 1 Axes>",
            "image/png": "[encoded data removed]"
          },
          "metadata": {
            "needs_background": "light"
          }
        }
      ],
      "execution_count": 11,
      "metadata": {
        "collapsed": true,
        "jupyter": {
          "source_hidden": false,
          "outputs_hidden": false
        },
        "nteract": {
          "transient": {
            "deleting": false
          }
        },
        "gather": {
          "logged": 1620103282432
        }
      }
    },
    {
      "cell_type": "code",
      "source": [
        "loss_graph(history)"
      ],
      "outputs": [
        {
          "output_type": "display_data",
          "data": {
            "text/plain": "<Figure size 432x288 with 1 Axes>",
            "image/png": "[encoded data removed]"
          },
          "metadata": {
            "needs_background": "light"
          }
        }
      ],
      "execution_count": 12,
      "metadata": {
        "collapsed": true,
        "jupyter": {
          "source_hidden": false,
          "outputs_hidden": false
        },
        "nteract": {
          "transient": {
            "deleting": false
          }
        },
        "gather": {
          "logged": 1620103282721
        }
      }
    },
    {
      "cell_type": "code",
      "source": [
        "predictions = model.predict(X_test).argmax(axis=1)\n",
        "cm = confusion_matrix(y_test, predictions)"
      ],
      "outputs": [],
      "execution_count": 13,
      "metadata": {
        "collapsed": true,
        "jupyter": {
          "source_hidden": false,
          "outputs_hidden": false
        },
        "nteract": {
          "transient": {
            "deleting": false
          }
        },
        "gather": {
          "logged": 1620103290619
        }
      }
    },
    {
      "cell_type": "code",
      "source": [
        "plot_confusion_matrix(cm, [\"COVID\" ,\"BACT\", \"VIRAL\", \"TB\", \"NORMAL\"])"
      ],
      "outputs": [
        {
          "output_type": "stream",
          "name": "stdout",
          "text": [
            "Confusion matrix, without normalization\n",
            "[[881   0   0   8  15]\n",
            " [  0 837  36   0   2]\n",
            " [  0  25 850   0   0]\n",
            " [ 21   1   0 851   2]\n",
            " [  7   1   0   3 864]]\n"
          ]
        },
        {
          "output_type": "display_data",
          "data": {
            "text/plain": "<Figure size 432x288 with 2 Axes>",
            "image/png": "[encoded data removed]"
          },
          "metadata": {
            "needs_background": "light"
          }
        }
      ],
      "execution_count": 14,
      "metadata": {
        "collapsed": true,
        "jupyter": {
          "source_hidden": false,
          "outputs_hidden": false
        },
        "nteract": {
          "transient": {
            "deleting": false
          }
        },
        "gather": {
          "logged": 1620103291237
        }
      }
    },
    {
      "cell_type": "code",
      "source": [
        "print(classification_report(y_test, predictions));"
      ],
      "outputs": [
        {
          "output_type": "stream",
          "name": "stdout",
          "text": [
            "              precision    recall  f1-score   support\n",
            "\n",
            "           0       0.97      0.97      0.97       904\n",
            "           1       0.97      0.96      0.96       875\n",
            "           2       0.96      0.97      0.97       875\n",
            "           3       0.99      0.97      0.98       875\n",
            "           4       0.98      0.99      0.98       875\n",
            "\n",
            "    accuracy                           0.97      4404\n",
            "   macro avg       0.97      0.97      0.97      4404\n",
            "weighted avg       0.97      0.97      0.97      4404\n",
            "\n"
          ]
        }
      ],
      "execution_count": 15,
      "metadata": {
        "collapsed": true,
        "jupyter": {
          "source_hidden": false,
          "outputs_hidden": false
        },
        "nteract": {
          "transient": {
            "deleting": false
          }
        },
        "gather": {
          "logged": 1620103291458
        }
      }
    },
    {
      "cell_type": "code",
      "source": [
        "model.save('InceptionV3.h5')"
      ],
      "outputs": [],
      "execution_count": 16,
      "metadata": {
        "collapsed": true,
        "jupyter": {
          "source_hidden": false,
          "outputs_hidden": false
        },
        "nteract": {
          "transient": {
            "deleting": false
          }
        },
        "gather": {
          "logged": 1620103323538
        }
      }
    }
  ],
  "metadata": {
    "kernelspec": {
      "name": "python3-azureml",
      "language": "python",
      "display_name": "Python 3.6 - AzureML"
    },
    "language_info": {
      "name": "python",
      "version": "3.6.9",
      "mimetype": "text/x-python",
      "codemirror_mode": {
        "name": "ipython",
        "version": 3
      },
      "pygments_lexer": "ipython3",
      "nbconvert_exporter": "python",
      "file_extension": ".py"
    },
    "kernel_info": {
      "name": "python3-azureml"
    },
    "microsoft": {
      "host": {
        "AzureML": {
          "notebookHasBeenCompleted": true
        }
      }
    },
    "nteract": {
      "version": "nteract-front-end@1.0.0"
    }
  },
  "nbformat": 4,
  "nbformat_minor": 2
}