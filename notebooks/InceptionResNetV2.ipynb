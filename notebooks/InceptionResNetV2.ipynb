{
  "cells": [
    {
      "cell_type": "code",
      "source": [
        "import numpy as np\n",
        "import tensorflow as tf\n",
        "from matplotlib import pyplot as plt\n",
        "from sklearn.metrics import confusion_matrix\n",
        "from sklearn.metrics import confusion_matrix, classification_report, roc_curve, auc\n",
        "import itertools"
      ],
      "outputs": [],
      "execution_count": 1,
      "metadata": {
        "gather": {
          "logged": 1618352274183
        }
      }
    },
    {
      "cell_type": "code",
      "source": [
        "with open('numpy arrays/X.npy', 'rb') as f:\n",
        "    X = np.load(f, allow_pickle=True)\n",
        "    print('X loaded')\n",
        "with open('numpy arrays/y.npy', 'rb') as f:\n",
        "    y = np.load(f, allow_pickle=True)\n",
        "    print('y loaded')"
      ],
      "outputs": [
        {
          "output_type": "stream",
          "name": "stdout",
          "text": [
            "X loaded\n",
            "y loaded\n"
          ]
        }
      ],
      "execution_count": 2,
      "metadata": {
        "collapsed": true,
        "jupyter": {
          "source_hidden": false,
          "outputs_hidden": false
        },
        "nteract": {
          "transient": {
            "deleting": false
          }
        },
        "gather": {
          "logged": 1618352280371
        }
      }
    },
    {
      "cell_type": "code",
      "source": [
        "from sklearn.utils import shuffle\n",
        "X, y = shuffle(X, y, random_state=0)"
      ],
      "outputs": [],
      "execution_count": 3,
      "metadata": {
        "collapsed": true,
        "jupyter": {
          "source_hidden": false,
          "outputs_hidden": false
        },
        "nteract": {
          "transient": {
            "deleting": false
          }
        },
        "gather": {
          "logged": 1618352284495
        }
      }
    },
    {
      "cell_type": "code",
      "source": [
        "X = np.stack((X,)*3, axis=-1)\n",
        "print(X.shape)"
      ],
      "outputs": [
        {
          "output_type": "stream",
          "name": "stdout",
          "text": [
            "(17615, 100, 100, 3)\n"
          ]
        }
      ],
      "execution_count": 4,
      "metadata": {
        "collapsed": true,
        "jupyter": {
          "source_hidden": false,
          "outputs_hidden": false
        },
        "nteract": {
          "transient": {
            "deleting": false
          }
        },
        "gather": {
          "logged": 1618352284937
        }
      }
    },
    {
      "cell_type": "code",
      "source": [
        "new_X = tf.image.resize(\n",
        "    X, [100,100], method=tf.image.ResizeMethod.BILINEAR, preserve_aspect_ratio=False,\n",
        "    antialias=False, name=None\n",
        ")\n",
        "new_X.shape\n",
        "X = np.array(new_X)"
      ],
      "outputs": [],
      "execution_count": 5,
      "metadata": {
        "collapsed": true,
        "jupyter": {
          "source_hidden": false,
          "outputs_hidden": false
        },
        "nteract": {
          "transient": {
            "deleting": false
          }
        },
        "gather": {
          "logged": 1618352290438
        }
      }
    },
    {
      "cell_type": "code",
      "source": [
        "from tensorflow.keras.applications import VGG16,VGG19,NASNetMobile,DenseNet201\n",
        "from tensorflow.keras.layers import *\n",
        "from tensorflow.keras.models import Sequential\n",
        "from tensorflow.keras.regularizers import *\n",
        "from tensorflow.keras.optimizers import Adam "
      ],
      "outputs": [],
      "execution_count": 6,
      "metadata": {
        "collapsed": true,
        "jupyter": {
          "source_hidden": false,
          "outputs_hidden": false
        },
        "nteract": {
          "transient": {
            "deleting": false
          }
        },
        "gather": {
          "logged": 1618352290675
        }
      }
    },
    {
      "cell_type": "code",
      "source": [
        "# Using early stopping and reduce lr on plateau to control the performance\n",
        "cb_1 = tf.keras.callbacks.ReduceLROnPlateau(monitor='val_loss', factor=0.5, patience=1, min_lr=1e-5, verbose=0) \n",
        "cb_2 = tf.keras.callbacks.EarlyStopping(monitor='val_loss', min_delta=1e-6, patience=10, verbose=1, mode='auto')\n",
        "\n",
        "cbs = [cb_1,cb_2]"
      ],
      "outputs": [],
      "execution_count": 7,
      "metadata": {
        "collapsed": true,
        "jupyter": {
          "source_hidden": false,
          "outputs_hidden": false
        },
        "nteract": {
          "transient": {
            "deleting": false
          }
        },
        "gather": {
          "logged": 1618352290901
        }
      }
    },
    {
      "cell_type": "code",
      "source": [
        "from sklearn.model_selection import train_test_split\n",
        "# split the data\n",
        "X_train, X_test, y_train, y_test = train_test_split(X,y,test_size=0.25, random_state = 42, stratify=y) "
      ],
      "outputs": [],
      "execution_count": 8,
      "metadata": {
        "collapsed": true,
        "jupyter": {
          "source_hidden": false,
          "outputs_hidden": false
        },
        "nteract": {
          "transient": {
            "deleting": false
          }
        },
        "gather": {
          "logged": 1618352295132
        }
      }
    },
    {
      "cell_type": "code",
      "source": [
        "model = Sequential()\n",
        "# tf.keras.applications.InceptionResNetV2(\n",
        "#     include_top=True, weights='imagenet', input_tensor=None,\n",
        "#     input_shape=None, pooling=None, classes=1000,\n",
        "#     classifier_activation='softmax', **kwargs\n",
        "# )\n",
        "conv_base = tf.keras.applications.InceptionResNetV2(input_shape=(100,100,3), include_top=False, pooling='max',weights='imagenet')\n",
        "conv_base.trainable = False\n",
        "model.add(conv_base)\n",
        "model.add(BatchNormalization())\n",
        "model.add(Dense(2048, activation='relu', kernel_regularizer=l1_l2(0.01)))\n",
        "model.add(BatchNormalization())\n",
        "model.add(Dense(5, activation='softmax')) \n",
        "\n",
        "train_layers = [layer for layer in conv_base.layers[::-1][:5]]\n",
        "\n",
        "for layer in conv_base.layers:\n",
        "  if layer in train_layers:\n",
        "    layer.trainable = True\n",
        "\n",
        "model.compile(loss='sparse_categorical_crossentropy', optimizer=Adam(lr=1e-4), metrics=['accuracy'])"
      ],
      "outputs": [],
      "execution_count": 9,
      "metadata": {
        "collapsed": true,
        "jupyter": {
          "source_hidden": false,
          "outputs_hidden": false
        },
        "nteract": {
          "transient": {
            "deleting": false
          }
        },
        "gather": {
          "logged": 1618352309771
        }
      }
    },
    {
      "cell_type": "code",
      "source": [
        "model.summary() "
      ],
      "outputs": [
        {
          "output_type": "stream",
          "name": "stdout",
          "text": [
            "Model: \"sequential\"\n",
            "_________________________________________________________________\n",
            "Layer (type)                 Output Shape              Param #   \n",
            "=================================================================\n",
            "inception_resnet_v2 (Functio (None, 1536)              54336736  \n",
            "_________________________________________________________________\n",
            "batch_normalization_203 (Bat (None, 1536)              6144      \n",
            "_________________________________________________________________\n",
            "dense (Dense)                (None, 2048)              3147776   \n",
            "_________________________________________________________________\n",
            "batch_normalization_204 (Bat (None, 2048)              8192      \n",
            "_________________________________________________________________\n",
            "dense_1 (Dense)              (None, 5)                 10245     \n",
            "=================================================================\n",
            "Total params: 57,509,093\n",
            "Trainable params: 3,165,189\n",
            "Non-trainable params: 54,343,904\n",
            "_________________________________________________________________\n"
          ]
        }
      ],
      "execution_count": 10,
      "metadata": {
        "collapsed": true,
        "jupyter": {
          "source_hidden": false,
          "outputs_hidden": false
        },
        "nteract": {
          "transient": {
            "deleting": false
          }
        },
        "gather": {
          "logged": 1618352327216
        }
      }
    },
    {
      "cell_type": "code",
      "source": [
        "history = model.fit(X_train, y_train,validation_data=(X_test, y_test), epochs=8, callbacks=cbs,verbose=1) "
      ],
      "outputs": [
        {
          "output_type": "stream",
          "name": "stdout",
          "text": [
            "Epoch 1/8\n",
            "413/413 [==============================] - 237s 547ms/step - loss: 437.1188 - accuracy: 0.4404 - val_loss: 37.8968 - val_accuracy: 0.4376\b\b\b\b\b\b\b\b\b\b\b\b\b\b\b\b\b\b\b\b\b\b\b\b\b\b\b\b\b\b\b\b\b\b\b\b\b\b\b\b\b\b\b\b\b\n",
            "Epoch 2/8\n",
            "413/413 [==============================] - 176s 426ms/step - loss: 20.7407 - accuracy: 0.4098 - val_loss: 7.4120 - val_accuracy: 0.4037\b\b\b\b\b\b\b\b\b\b\b\b\b\b\b\b\b\b\b\b\b\b\b\b\b\b\b\b\b\b\b\b\b\b\b\b\b\b\b\n",
            "Epoch 3/8\n",
            "413/413 [==============================] - 173s 419ms/step - loss: 6.7017 - accuracy: 0.3776 - val_loss: 4.9947 - val_accuracy: 0.4114\b\b\b\b\b\b\b\b\b\b\b\b\b\b\b\b\b\b\b\b\b\b\b\b\b\b\b\b\b\b\b\b\b\b\b\b\b\b\n",
            "Epoch 4/8\n",
            " 83/413 [=====>........................] - ETA: 1:44 - loss: 5.5636 - accuracy: 0.3765\b\b\b\b\b\b\b\b\b\b\b\b\b\b\b\b\b\b\b\b\b\b\b\b\b\b\b\b\b\b\b\b\b\b\b\b\b\b\b\b\b\b\b\b\b\b\b\b\b\b\b\b\b\b\b\b\b\b\b\b\b\b\b\b\b\b\b\b\b\b\b\b\b\b\b\b\b\b\b\b\b\b\b\b\b\b\r 84/413 [=====>........................] - ETA: 1:44 - loss: 5.5642 - accuracy: 0.3767"
          ]
        }
      ],
      "execution_count": 11,
      "metadata": {
        "collapsed": true,
        "jupyter": {
          "source_hidden": false,
          "outputs_hidden": false
        },
        "nteract": {
          "transient": {
            "deleting": false
          }
        },
        "gather": {
          "logged": 1618351467917
        }
      }
    }
  ],
  "metadata": {
    "kernelspec": {
      "name": "python3-azureml",
      "language": "python",
      "display_name": "Python 3.6 - AzureML"
    },
    "language_info": {
      "name": "python",
      "version": "3.6.9",
      "mimetype": "text/x-python",
      "codemirror_mode": {
        "name": "ipython",
        "version": 3
      },
      "pygments_lexer": "ipython3",
      "nbconvert_exporter": "python",
      "file_extension": ".py"
    },
    "kernel_info": {
      "name": "python3-azureml"
    },
    "microsoft": {
      "host": {
        "AzureML": {
          "notebookHasBeenCompleted": true
        }
      }
    },
    "nteract": {
      "version": "nteract-front-end@1.0.0"
    }
  },
  "nbformat": 4,
  "nbformat_minor": 2
}