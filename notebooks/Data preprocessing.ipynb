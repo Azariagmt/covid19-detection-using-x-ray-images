{
  "cells": [
    {
      "cell_type": "code",
      "source": [
        "import numpy as np"
      ],
      "outputs": [],
      "execution_count": 1,
      "metadata": {
        "collapsed": true,
        "jupyter": {
          "source_hidden": false,
          "outputs_hidden": false
        },
        "nteract": {
          "transient": {
            "deleting": false
          }
        },
        "gather": {
          "logged": 1618311824190
        }
      }
    },
    {
      "cell_type": "code",
      "source": [
        "with open('numpy arrays/covid.npy', 'rb') as f:\n",
        "    covid = np.load(f, allow_pickle=True)\n",
        "\n",
        "covid.shape"
      ],
      "outputs": [
        {
          "output_type": "execute_result",
          "execution_count": 2,
          "data": {
            "text/plain": "(3615, 2)"
          },
          "metadata": {}
        }
      ],
      "execution_count": 2,
      "metadata": {
        "gather": {
          "logged": 1618311826852
        }
      }
    },
    {
      "cell_type": "code",
      "source": [
        "with open('numpy arrays/bacterial_pneumonia.npy', 'rb') as f:\n",
        "    bacterial_pneumonia = np.load(f, allow_pickle=True)\n",
        "\n",
        "bacterial_pneumonia.shape"
      ],
      "outputs": [
        {
          "output_type": "execute_result",
          "execution_count": 4,
          "data": {
            "text/plain": "(2530, 2)"
          },
          "metadata": {}
        }
      ],
      "execution_count": 4,
      "metadata": {
        "collapsed": true,
        "jupyter": {
          "source_hidden": false,
          "outputs_hidden": false
        },
        "nteract": {
          "transient": {
            "deleting": false
          }
        },
        "gather": {
          "logged": 1618311843345
        }
      }
    },
    {
      "cell_type": "code",
      "source": [
        "with open('numpy arrays/viral_pneumonia.npy', 'rb') as f:\n",
        "    viral_pneumonia = np.load(f, allow_pickle=True)\n",
        "\n",
        "viral_pneumonia.shape"
      ],
      "outputs": [
        {
          "output_type": "execute_result",
          "execution_count": 5,
          "data": {
            "text/plain": "(1345, 2)"
          },
          "metadata": {}
        }
      ],
      "execution_count": 5,
      "metadata": {
        "collapsed": true,
        "jupyter": {
          "source_hidden": false,
          "outputs_hidden": false
        },
        "nteract": {
          "transient": {
            "deleting": false
          }
        },
        "gather": {
          "logged": 1618311958249
        }
      }
    },
    {
      "cell_type": "code",
      "source": [
        "viral_pneumonia[0].shape\n",
        "viral_pneumonia = np.repeat(viral_pneumonia, 3, axis=0)\n",
        "viral_pneumonia = viral_pneumonia[:3500]"
      ],
      "outputs": [],
      "execution_count": 33,
      "metadata": {
        "collapsed": true,
        "jupyter": {
          "source_hidden": false,
          "outputs_hidden": false
        },
        "nteract": {
          "transient": {
            "deleting": false
          }
        },
        "gather": {
          "logged": 1618321616127
        }
      }
    },
    {
      "cell_type": "code",
      "source": [
        "viral_pneumonia.shape"
      ],
      "outputs": [
        {
          "output_type": "execute_result",
          "execution_count": 34,
          "data": {
            "text/plain": "(3500, 2)"
          },
          "metadata": {}
        }
      ],
      "execution_count": 34,
      "metadata": {
        "collapsed": true,
        "jupyter": {
          "source_hidden": false,
          "outputs_hidden": false
        },
        "nteract": {
          "transient": {
            "deleting": false
          }
        },
        "gather": {
          "logged": 1618321623426
        }
      }
    },
    {
      "cell_type": "code",
      "source": [
        "with open('numpy arrays/tb.npy', 'rb') as f:\n",
        "    tb = np.load(f, allow_pickle=True)\n",
        "\n",
        "tb.shape"
      ],
      "outputs": [
        {
          "output_type": "execute_result",
          "execution_count": 6,
          "data": {
            "text/plain": "(3500, 2)"
          },
          "metadata": {}
        }
      ],
      "execution_count": 6,
      "metadata": {
        "collapsed": true,
        "jupyter": {
          "source_hidden": false,
          "outputs_hidden": false
        },
        "nteract": {
          "transient": {
            "deleting": false
          }
        },
        "gather": {
          "logged": 1618312010304
        }
      }
    },
    {
      "cell_type": "code",
      "source": [
        "with open('numpy arrays/normal.npy', 'rb') as f:\n",
        "    normal = np.load(f, allow_pickle=True)\n",
        "\n",
        "normal.shape"
      ],
      "outputs": [
        {
          "output_type": "execute_result",
          "execution_count": 7,
          "data": {
            "text/plain": "(1341, 2)"
          },
          "metadata": {}
        }
      ],
      "execution_count": 7,
      "metadata": {
        "collapsed": true,
        "jupyter": {
          "source_hidden": false,
          "outputs_hidden": false
        },
        "nteract": {
          "transient": {
            "deleting": false
          }
        },
        "gather": {
          "logged": 1618312077634
        }
      }
    },
    {
      "cell_type": "code",
      "source": [
        "import matplotlib.pyplot as plt\n",
        "# Pie chart, where the slices will be ordered and plotted counter-clockwise:\n",
        "\n",
        "values = [covid.shape[0],bacterial_pneumonia.shape[0],viral_pneumonia.shape[0],tb.shape[0],normal.shape[0]]\n",
        "labels = ['COVID-19', 'Bacterial Pneumonia', 'Viral Pneumonia', 'Tuberculosis', 'Healthy Imaging']\n",
        "\n",
        "explode = (0.05,0.05,0.05,0.05,0.05)  # only \"explode\" the 2nd slice (i.e. 'Hogs')\n",
        "fig, ax1 = plt.subplots(1,2, figsize=(16,10\n",
        "                                      ))\n",
        "ax1[0].pie(values, explode=explode, labels=labels, autopct='%1.1f%%',\n",
        "      shadow=True, startangle=90, radius=1.1, colors=[(0,.16,.17),(.9,.58,.62),(.58,.175,.185), (.100,.233,.238)])\n",
        "# ax1.axis('equal')  # Equal aspect ratio ensures that pie is drawn as a circle.\n",
        "ax1[1].bar(height=values,x=labels)\n",
        "plt.xticks(rotation=90)\n",
        "\n",
        "# Add a title to the Figure\n",
        "fig.suptitle('Dataset Ploting')\n",
        "\n",
        "plt.show()"
      ],
      "outputs": [
        {
          "output_type": "display_data",
          "data": {
            "text/plain": "<Figure size 1152x720 with 2 Axes>",
            "image/png": "[encoded data removed]"
          },
          "metadata": {
            "needs_background": "light"
          }
        }
      ],
      "execution_count": 10,
      "metadata": {
        "collapsed": true,
        "jupyter": {
          "source_hidden": false,
          "outputs_hidden": false
        },
        "nteract": {
          "transient": {
            "deleting": false
          }
        },
        "gather": {
          "logged": 1618312116409
        }
      }
    },
    {
      "cell_type": "markdown",
      "source": [
        "Some imbalance!\n",
        "\n",
        "Since this dataset was collected with the intention to classify only covid and non covid(binary classification) something we'll be covering soon, cases we are seeing show a very high imbalance.\n",
        "\n",
        "we need to find a way to balance our data. lets take a look at over and under sampling using the image below. \n",
        "\n",
        "![underandoversampling.png](data:image/png;base64,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)\n",
        "\n",
        "In both the left and right side of the image above, our blue class has far more samples than the orange class. \n",
        "Undersampling means we will select only some of the data from the majority class, only using as many examples as the minority class has.\n",
        "Oversampling means that we will create copies of our minority class in order to have the same number of examples as the majority class has. The copies will be made such that the distribution of the minority class is maintained. "
      ],
      "metadata": {
        "nteract": {
          "transient": {
            "deleting": false
          }
        }
      }
    },
    {
      "cell_type": "code",
      "source": [
        "viral_pneumonia = np.repeat(viral_pneumonia, 3, axis=0)\n",
        "viral_pneumonia = viral_pneumonia[:3500]\n",
        "bacterial_pneumonia = np.repeat(bacterial_pneumonia, 2, axis=0)\n",
        "bacterial_pneumonia = bacterial_pneumonia[:3500]\n",
        "normal = np.repeat(normal, 3, axis=0)\n",
        "normal = normal[:3500]"
      ],
      "outputs": [],
      "execution_count": 35,
      "metadata": {
        "collapsed": true,
        "jupyter": {
          "source_hidden": false,
          "outputs_hidden": false
        },
        "nteract": {
          "transient": {
            "deleting": false
          }
        },
        "gather": {
          "logged": 1618321775027
        }
      }
    },
    {
      "cell_type": "code",
      "source": [
        "normal.shape"
      ],
      "outputs": [
        {
          "output_type": "execute_result",
          "execution_count": 37,
          "data": {
            "text/plain": "(3500, 2)"
          },
          "metadata": {}
        }
      ],
      "execution_count": 37,
      "metadata": {
        "collapsed": true,
        "jupyter": {
          "source_hidden": false,
          "outputs_hidden": false
        },
        "nteract": {
          "transient": {
            "deleting": false
          }
        },
        "gather": {
          "logged": 1618321812905
        }
      }
    },
    {
      "cell_type": "code",
      "source": [
        "import matplotlib.pyplot as plt\n",
        "# Pie chart, where the slices will be ordered and plotted counter-clockwise:\n",
        "\n",
        "values = [covid.shape[0],bacterial_pneumonia.shape[0],viral_pneumonia.shape[0],tb.shape[0],normal.shape[0]]\n",
        "labels = ['COVID-19', 'Bacterial Pneumonia', 'Viral Pneumonia', 'Tuberculosis', 'Healthy Imaging']\n",
        "\n",
        "explode = (0.05,0.05,0.05,0.05,0.05)  # only \"explode\" the 2nd slice (i.e. 'Hogs')\n",
        "fig, ax1 = plt.subplots(1,2, figsize=(16,10\n",
        "                                      ))\n",
        "ax1[0].pie(values, explode=explode, labels=labels, autopct='%1.1f%%',\n",
        "      shadow=True, startangle=90, radius=1.1, colors=[(0,.16,.17),(.9,.58,.62),(.58,.175,.185), (.100,.233,.238)])\n",
        "# ax1.axis('equal')  # Equal aspect ratio ensures that pie is drawn as a circle.\n",
        "ax1[1].bar(height=values,x=labels)\n",
        "plt.xticks(rotation=90)\n",
        "\n",
        "# Add a title to the Figure\n",
        "fig.suptitle('Dataset Ploting')\n",
        "\n",
        "plt.show()"
      ],
      "outputs": [
        {
          "output_type": "display_data",
          "data": {
            "text/plain": "<Figure size 1152x720 with 2 Axes>",
            "image/png": "[encoded data removed]"
          },
          "metadata": {
            "needs_background": "light"
          }
        }
      ],
      "execution_count": 39,
      "metadata": {
        "collapsed": true,
        "jupyter": {
          "source_hidden": false,
          "outputs_hidden": false
        },
        "nteract": {
          "transient": {
            "deleting": false
          }
        },
        "gather": {
          "logged": 1618321843710
        }
      }
    },
    {
      "cell_type": "code",
      "source": [
        "data_covid = covid\n",
        "data_bacterial_pneumonia = bacterial_pneumonia\n",
        "data_viral_pneumonia = viral_pneumonia\n",
        "data_tb = tb\n",
        "data_normal = normal\n",
        "\n",
        "print(len(data_covid))\n",
        "\n",
        "data = np.concatenate((data_covid, data_bacterial_pneumonia, data_viral_pneumonia, data_tb, data_normal),)\n",
        "X = []\n",
        "y = []\n",
        "for image in data:\n",
        "  X.append(image[0])\n",
        "  y.append(image[1])\n",
        "\n",
        "# converting x & y to numpy array as they are list\n",
        "X = np.array(X)\n",
        "y = np.array(y)"
      ],
      "outputs": [
        {
          "output_type": "stream",
          "name": "stdout",
          "text": [
            "3615\n"
          ]
        }
      ],
      "execution_count": 40,
      "metadata": {
        "collapsed": true,
        "jupyter": {
          "source_hidden": false,
          "outputs_hidden": false
        },
        "nteract": {
          "transient": {
            "deleting": false
          }
        },
        "gather": {
          "logged": 1618321920504
        }
      }
    },
    {
      "cell_type": "code",
      "source": [
        "X.shape"
      ],
      "outputs": [
        {
          "output_type": "execute_result",
          "execution_count": 41,
          "data": {
            "text/plain": "(17615, 100, 100)"
          },
          "metadata": {}
        }
      ],
      "execution_count": 41,
      "metadata": {
        "collapsed": true,
        "jupyter": {
          "source_hidden": false,
          "outputs_hidden": false
        },
        "nteract": {
          "transient": {
            "deleting": false
          }
        },
        "gather": {
          "logged": 1618321926075
        }
      }
    },
    {
      "cell_type": "code",
      "source": [
        "with open('numpy arrays/X.npy', 'wb') as f:\n",
        "    np.save(f, X)\n",
        "    print('X numpy array saved in X.npy')\n",
        "with open('numpy arrays/y.npy','wb') as f:\n",
        "    np.save(f, y)\n",
        "    print('y numpy array saved in y.npy')"
      ],
      "outputs": [
        {
          "output_type": "stream",
          "name": "stdout",
          "text": [
            "X numpy array saved in X.npy\n",
            "y numpy array saved in y.npy\n"
          ]
        }
      ],
      "execution_count": 47,
      "metadata": {
        "collapsed": true,
        "jupyter": {
          "source_hidden": false,
          "outputs_hidden": false
        },
        "nteract": {
          "transient": {
            "deleting": false
          }
        },
        "gather": {
          "logged": 1618323254788
        }
      }
    },
    {
      "cell_type": "code",
      "source": [
        "y.shape"
      ],
      "outputs": [
        {
          "output_type": "execute_result",
          "execution_count": 42,
          "data": {
            "text/plain": "(17615,)"
          },
          "metadata": {}
        }
      ],
      "execution_count": 42,
      "metadata": {
        "collapsed": true,
        "jupyter": {
          "source_hidden": false,
          "outputs_hidden": false
        },
        "nteract": {
          "transient": {
            "deleting": false
          }
        },
        "gather": {
          "logged": 1618321957151
        }
      }
    },
    {
      "cell_type": "code",
      "source": [
        "from sklearn.model_selection import train_test_split\n",
        "# split the data\n",
        "X_train, X_test, y_train, y_test = train_test_split(X,y,test_size=0.25, random_state = 42, stratify=y)"
      ],
      "outputs": [],
      "execution_count": 48,
      "metadata": {
        "collapsed": true,
        "jupyter": {
          "source_hidden": false,
          "outputs_hidden": false
        },
        "nteract": {
          "transient": {
            "deleting": false
          }
        },
        "gather": {
          "logged": 1618324319073
        }
      }
    },
    {
      "cell_type": "code",
      "source": [
        "X_train = X_train / 255\n",
        "X_test = X_test / 255\n",
        "\n",
        "\"\"\"\n",
        "The pixel value lie in the range 0 - 255 representing the RGB (Red Green Blue) value. \"\"\""
      ],
      "outputs": [
        {
          "output_type": "execute_result",
          "execution_count": 49,
          "data": {
            "text/plain": "'\\nThe pixel value lie in the range 0 - 255 representing the RGB (Red Green Blue) value. '"
          },
          "metadata": {}
        }
      ],
      "execution_count": 49,
      "metadata": {
        "collapsed": true,
        "jupyter": {
          "source_hidden": false,
          "outputs_hidden": false
        },
        "nteract": {
          "transient": {
            "deleting": false
          }
        },
        "gather": {
          "logged": 1618324319895
        }
      }
    },
    {
      "cell_type": "code",
      "source": [],
      "outputs": [],
      "execution_count": null,
      "metadata": {
        "collapsed": true,
        "jupyter": {
          "source_hidden": false,
          "outputs_hidden": false
        },
        "nteract": {
          "transient": {
            "deleting": false
          }
        }
      }
    },
    {
      "cell_type": "code",
      "source": [],
      "outputs": [],
      "execution_count": null,
      "metadata": {
        "collapsed": true,
        "jupyter": {
          "source_hidden": false,
          "outputs_hidden": false
        },
        "nteract": {
          "transient": {
            "deleting": false
          }
        }
      }
    },
    {
      "cell_type": "code",
      "source": [],
      "outputs": [],
      "execution_count": null,
      "metadata": {
        "collapsed": true,
        "jupyter": {
          "source_hidden": false,
          "outputs_hidden": false
        },
        "nteract": {
          "transient": {
            "deleting": false
          }
        }
      }
    },
    {
      "cell_type": "code",
      "source": [],
      "outputs": [],
      "execution_count": null,
      "metadata": {
        "collapsed": true,
        "jupyter": {
          "source_hidden": false,
          "outputs_hidden": false
        },
        "nteract": {
          "transient": {
            "deleting": false
          }
        }
      }
    },
    {
      "cell_type": "code",
      "source": [],
      "outputs": [],
      "execution_count": null,
      "metadata": {
        "collapsed": true,
        "jupyter": {
          "source_hidden": false,
          "outputs_hidden": false
        },
        "nteract": {
          "transient": {
            "deleting": false
          }
        }
      }
    },
    {
      "cell_type": "code",
      "source": [],
      "outputs": [],
      "execution_count": null,
      "metadata": {
        "collapsed": true,
        "jupyter": {
          "source_hidden": false,
          "outputs_hidden": false
        },
        "nteract": {
          "transient": {
            "deleting": false
          }
        }
      }
    },
    {
      "cell_type": "code",
      "source": [],
      "outputs": [],
      "execution_count": null,
      "metadata": {
        "collapsed": true,
        "jupyter": {
          "source_hidden": false,
          "outputs_hidden": false
        },
        "nteract": {
          "transient": {
            "deleting": false
          }
        }
      }
    },
    {
      "cell_type": "code",
      "source": [],
      "outputs": [],
      "execution_count": null,
      "metadata": {
        "collapsed": true,
        "jupyter": {
          "source_hidden": false,
          "outputs_hidden": false
        },
        "nteract": {
          "transient": {
            "deleting": false
          }
        }
      }
    },
    {
      "cell_type": "code",
      "source": [],
      "outputs": [],
      "execution_count": null,
      "metadata": {
        "collapsed": true,
        "jupyter": {
          "source_hidden": false,
          "outputs_hidden": false
        },
        "nteract": {
          "transient": {
            "deleting": false
          }
        }
      }
    },
    {
      "cell_type": "code",
      "source": [],
      "outputs": [],
      "execution_count": null,
      "metadata": {
        "collapsed": true,
        "jupyter": {
          "source_hidden": false,
          "outputs_hidden": false
        },
        "nteract": {
          "transient": {
            "deleting": false
          }
        }
      }
    },
    {
      "cell_type": "code",
      "source": [],
      "outputs": [],
      "execution_count": null,
      "metadata": {
        "collapsed": true,
        "jupyter": {
          "source_hidden": false,
          "outputs_hidden": false
        },
        "nteract": {
          "transient": {
            "deleting": false
          }
        }
      }
    },
    {
      "cell_type": "code",
      "source": [],
      "outputs": [],
      "execution_count": null,
      "metadata": {
        "collapsed": true,
        "jupyter": {
          "source_hidden": false,
          "outputs_hidden": false
        },
        "nteract": {
          "transient": {
            "deleting": false
          }
        }
      }
    },
    {
      "cell_type": "code",
      "source": [],
      "outputs": [],
      "execution_count": null,
      "metadata": {
        "collapsed": true,
        "jupyter": {
          "source_hidden": false,
          "outputs_hidden": false
        },
        "nteract": {
          "transient": {
            "deleting": false
          }
        }
      }
    },
    {
      "cell_type": "code",
      "source": [],
      "outputs": [],
      "execution_count": null,
      "metadata": {
        "collapsed": true,
        "jupyter": {
          "source_hidden": false,
          "outputs_hidden": false
        },
        "nteract": {
          "transient": {
            "deleting": false
          }
        }
      }
    },
    {
      "cell_type": "code",
      "source": [],
      "outputs": [],
      "execution_count": null,
      "metadata": {
        "collapsed": true,
        "jupyter": {
          "source_hidden": false,
          "outputs_hidden": false
        },
        "nteract": {
          "transient": {
            "deleting": false
          }
        }
      }
    },
    {
      "cell_type": "code",
      "source": [],
      "outputs": [],
      "execution_count": null,
      "metadata": {
        "collapsed": true,
        "jupyter": {
          "source_hidden": false,
          "outputs_hidden": false
        },
        "nteract": {
          "transient": {
            "deleting": false
          }
        }
      }
    },
    {
      "cell_type": "code",
      "source": [],
      "outputs": [],
      "execution_count": null,
      "metadata": {
        "collapsed": true,
        "jupyter": {
          "source_hidden": false,
          "outputs_hidden": false
        },
        "nteract": {
          "transient": {
            "deleting": false
          }
        }
      }
    },
    {
      "cell_type": "code",
      "source": [],
      "outputs": [],
      "execution_count": null,
      "metadata": {
        "collapsed": true,
        "jupyter": {
          "source_hidden": false,
          "outputs_hidden": false
        },
        "nteract": {
          "transient": {
            "deleting": false
          }
        }
      }
    },
    {
      "cell_type": "code",
      "source": [],
      "outputs": [],
      "execution_count": null,
      "metadata": {
        "collapsed": true,
        "jupyter": {
          "source_hidden": false,
          "outputs_hidden": false
        },
        "nteract": {
          "transient": {
            "deleting": false
          }
        }
      }
    },
    {
      "cell_type": "code",
      "source": [],
      "outputs": [],
      "execution_count": null,
      "metadata": {
        "collapsed": true,
        "jupyter": {
          "source_hidden": false,
          "outputs_hidden": false
        },
        "nteract": {
          "transient": {
            "deleting": false
          }
        }
      }
    },
    {
      "cell_type": "code",
      "source": [],
      "outputs": [],
      "execution_count": null,
      "metadata": {
        "collapsed": true,
        "jupyter": {
          "source_hidden": false,
          "outputs_hidden": false
        },
        "nteract": {
          "transient": {
            "deleting": false
          }
        }
      }
    },
    {
      "cell_type": "code",
      "source": [],
      "outputs": [],
      "execution_count": null,
      "metadata": {
        "collapsed": true,
        "jupyter": {
          "source_hidden": false,
          "outputs_hidden": false
        },
        "nteract": {
          "transient": {
            "deleting": false
          }
        }
      }
    },
    {
      "cell_type": "code",
      "source": [],
      "outputs": [],
      "execution_count": null,
      "metadata": {
        "collapsed": true,
        "jupyter": {
          "source_hidden": false,
          "outputs_hidden": false
        },
        "nteract": {
          "transient": {
            "deleting": false
          }
        }
      }
    },
    {
      "cell_type": "code",
      "source": [],
      "outputs": [],
      "execution_count": null,
      "metadata": {
        "collapsed": true,
        "jupyter": {
          "source_hidden": false,
          "outputs_hidden": false
        },
        "nteract": {
          "transient": {
            "deleting": false
          }
        }
      }
    },
    {
      "cell_type": "code",
      "source": [],
      "outputs": [],
      "execution_count": null,
      "metadata": {
        "collapsed": true,
        "jupyter": {
          "source_hidden": false,
          "outputs_hidden": false
        },
        "nteract": {
          "transient": {
            "deleting": false
          }
        }
      }
    },
    {
      "cell_type": "code",
      "source": [],
      "outputs": [],
      "execution_count": null,
      "metadata": {
        "collapsed": true,
        "jupyter": {
          "source_hidden": false,
          "outputs_hidden": false
        },
        "nteract": {
          "transient": {
            "deleting": false
          }
        }
      }
    },
    {
      "cell_type": "code",
      "source": [],
      "outputs": [],
      "execution_count": null,
      "metadata": {
        "collapsed": true,
        "jupyter": {
          "source_hidden": false,
          "outputs_hidden": false
        },
        "nteract": {
          "transient": {
            "deleting": false
          }
        }
      }
    },
    {
      "cell_type": "code",
      "source": [],
      "outputs": [],
      "execution_count": null,
      "metadata": {
        "collapsed": true,
        "jupyter": {
          "source_hidden": false,
          "outputs_hidden": false
        },
        "nteract": {
          "transient": {
            "deleting": false
          }
        }
      }
    },
    {
      "cell_type": "code",
      "source": [],
      "outputs": [],
      "execution_count": null,
      "metadata": {
        "collapsed": true,
        "jupyter": {
          "source_hidden": false,
          "outputs_hidden": false
        },
        "nteract": {
          "transient": {
            "deleting": false
          }
        }
      }
    },
    {
      "cell_type": "code",
      "source": [],
      "outputs": [],
      "execution_count": null,
      "metadata": {
        "collapsed": true,
        "jupyter": {
          "source_hidden": false,
          "outputs_hidden": false
        },
        "nteract": {
          "transient": {
            "deleting": false
          }
        }
      }
    },
    {
      "cell_type": "code",
      "source": [],
      "outputs": [],
      "execution_count": null,
      "metadata": {
        "collapsed": true,
        "jupyter": {
          "source_hidden": false,
          "outputs_hidden": false
        },
        "nteract": {
          "transient": {
            "deleting": false
          }
        }
      }
    },
    {
      "cell_type": "code",
      "source": [],
      "outputs": [],
      "execution_count": null,
      "metadata": {
        "collapsed": true,
        "jupyter": {
          "source_hidden": false,
          "outputs_hidden": false
        },
        "nteract": {
          "transient": {
            "deleting": false
          }
        }
      }
    },
    {
      "cell_type": "code",
      "source": [],
      "outputs": [],
      "execution_count": null,
      "metadata": {
        "collapsed": true,
        "jupyter": {
          "source_hidden": false,
          "outputs_hidden": false
        },
        "nteract": {
          "transient": {
            "deleting": false
          }
        }
      }
    },
    {
      "cell_type": "code",
      "source": [],
      "outputs": [],
      "execution_count": null,
      "metadata": {
        "collapsed": true,
        "jupyter": {
          "source_hidden": false,
          "outputs_hidden": false
        },
        "nteract": {
          "transient": {
            "deleting": false
          }
        }
      }
    },
    {
      "cell_type": "code",
      "source": [],
      "outputs": [],
      "execution_count": null,
      "metadata": {
        "collapsed": true,
        "jupyter": {
          "source_hidden": false,
          "outputs_hidden": false
        },
        "nteract": {
          "transient": {
            "deleting": false
          }
        }
      }
    },
    {
      "cell_type": "code",
      "source": [],
      "outputs": [],
      "execution_count": null,
      "metadata": {
        "collapsed": true,
        "jupyter": {
          "source_hidden": false,
          "outputs_hidden": false
        },
        "nteract": {
          "transient": {
            "deleting": false
          }
        }
      }
    },
    {
      "cell_type": "code",
      "source": [],
      "outputs": [],
      "execution_count": null,
      "metadata": {
        "collapsed": true,
        "jupyter": {
          "source_hidden": false,
          "outputs_hidden": false
        },
        "nteract": {
          "transient": {
            "deleting": false
          }
        }
      }
    },
    {
      "cell_type": "code",
      "source": [],
      "outputs": [],
      "execution_count": null,
      "metadata": {
        "collapsed": true,
        "jupyter": {
          "source_hidden": false,
          "outputs_hidden": false
        },
        "nteract": {
          "transient": {
            "deleting": false
          }
        }
      }
    },
    {
      "cell_type": "code",
      "source": [],
      "outputs": [],
      "execution_count": null,
      "metadata": {
        "collapsed": true,
        "jupyter": {
          "source_hidden": false,
          "outputs_hidden": false
        },
        "nteract": {
          "transient": {
            "deleting": false
          }
        }
      }
    }
  ],
  "metadata": {
    "kernelspec": {
      "name": "python3-azureml",
      "language": "python",
      "display_name": "Python 3.6 - AzureML"
    },
    "language_info": {
      "name": "python",
      "version": "3.6.9",
      "mimetype": "text/x-python",
      "codemirror_mode": {
        "name": "ipython",
        "version": 3
      },
      "pygments_lexer": "ipython3",
      "nbconvert_exporter": "python",
      "file_extension": ".py"
    },
    "kernel_info": {
      "name": "python3-azureml"
    },
    "nteract": {
      "version": "nteract-front-end@1.0.0"
    },
    "microsoft": {
      "host": {
        "AzureML": {
          "notebookHasBeenCompleted": true
        }
      }
    }
  },
  "nbformat": 4,
  "nbformat_minor": 2
}